{
  "nbformat": 4,
  "nbformat_minor": 0,
  "metadata": {
    "kernelspec": {
      "display_name": "Python 3",
      "language": "python",
      "name": "python3"
    },
    "language_info": {
      "codemirror_mode": {
        "name": "ipython",
        "version": 3
      },
      "file_extension": ".py",
      "mimetype": "text/x-python",
      "name": "python",
      "nbconvert_exporter": "python",
      "pygments_lexer": "ipython3",
      "version": "3.8.3"
    },
    "colab": {
      "name": "Lab 2 -Grupo_2-2.ipynb",
      "provenance": [],
      "collapsed_sections": [],
      "toc_visible": true
    }
  },
  "cells": [
    {
      "cell_type": "markdown",
      "metadata": {
        "id": "fVrwUhubKQ0S"
      },
      "source": [
        "# Laboratorio 2: Armado de un esquema de aprendizaje automático\n",
        "\n",
        "En el laboratorio final se espera que puedan poner en práctica los conocimientos adquiridos en el curso, trabajando con un conjunto de datos de clasificación.\n",
        "\n",
        "El objetivo es que se introduzcan en el desarrollo de un esquema para hacer tareas de aprendizaje automático: selección de un modelo, ajuste de hiperparámetros y evaluación.\n",
        "\n",
        "El conjunto de datos a utilizar está en `./data/loan_data.csv`. Si abren el archivo verán que al principio (las líneas que empiezan con `#`) describen el conjunto de datos y sus atributos (incluyendo el atributo de etiqueta o clase).\n",
        "\n",
        "Se espera que hagan uso de las herramientas vistas en el curso. Se espera que hagan uso especialmente de las herramientas brindadas por `scikit-learn`."
      ]
    },
    {
      "cell_type": "code",
      "metadata": {
        "id": "iHrhv43cKQ0T"
      },
      "source": [
        "import numpy as np\n",
        "import pandas as pd\n",
        "\n",
        "# TODO: Agregar las librerías que hagan falta\n",
        "from sklearn.model_selection import train_test_split\n",
        "from sklearn.preprocessing import StandardScaler\n",
        "import matplotlib.pyplot as plt"
      ],
      "execution_count": null,
      "outputs": []
    },
    {
      "cell_type": "markdown",
      "metadata": {
        "id": "iiA8WYfeKQ0W"
      },
      "source": [
        "## Carga de datos y división en entrenamiento y evaluación\n",
        "\n",
        "La celda siguiente se encarga de la carga de datos (haciendo uso de pandas). Estos serán los que se trabajarán en el resto del laboratorio."
      ]
    },
    {
      "cell_type": "code",
      "metadata": {
        "id": "fIrwuCTdKQ0W"
      },
      "source": [
        "dataset = pd.read_csv(\"https://raw.githubusercontent.com/DiploDatos/IntroduccionAprendizajeAutomatico/master/data/loan_data.csv\", comment=\"#\")\n",
        "# División entre instancias y etiquetas\n",
        "X, y = dataset.iloc[:, 1:], dataset.TARGET"
      ],
      "execution_count": null,
      "outputs": []
    },
    {
      "cell_type": "markdown",
      "metadata": {
        "id": "MCGMdqXXKQ0Y"
      },
      "source": [
        "\n",
        "Documentación:\n",
        "\n",
        "- https://scikit-learn.org/stable/modules/generated/sklearn.model_selection.train_test_split.html"
      ]
    },
    {
      "cell_type": "markdown",
      "metadata": {
        "id": "EBLWIF8UKQ0Z"
      },
      "source": [
        "## Ejercicio 1: Descripción de los Datos y la Tarea\n",
        "\n",
        "Responder las siguientes preguntas:\n",
        "\n",
        "1. ¿De qué se trata el conjunto de datos?\n",
        "2. ¿Cuál es la variable objetivo que hay que predecir? ¿Qué significado tiene?\n",
        "3. ¿Qué información (atributos) hay disponible para hacer la predicción?\n",
        "4. ¿Qué atributos imagina ud. que son los más determinantes para la predicción?\n",
        "\n",
        "**No hace falta escribir código para responder estas preguntas.**"
      ]
    },
    {
      "cell_type": "markdown",
      "metadata": {
        "id": "9MhzVImtKQ0Z"
      },
      "source": [
        "1. ¿De qué se trata el conjunto de datos?\n",
        "\n",
        "El conjunto de datos representa información de creditos hipotecarios efectuados de los cuales algunos un 20% de los prestamos no fueron cancelados con exito. Se registro información de un total de 5960 prestamos, de los cuales se tomaron 12 datos por cada prestamo efectuado."
      ]
    },
    {
      "cell_type": "markdown",
      "metadata": {
        "id": "wrmPJ7zAKQ0c"
      },
      "source": [
        "2. ¿Cuál es la variable objetivo que hay que predecir? ¿Qué significado tiene?"
      ]
    },
    {
      "cell_type": "markdown",
      "metadata": {
        "id": "PhOG3Z5PO0-x"
      },
      "source": [
        "La variable objetivo es la variable *TARGET*. El valor de la variable puede ser:\n",
        "  * 1 - El cliente a incumplido en el prestamo.\n",
        "  * 0 - Prestamo pagado."
      ]
    },
    {
      "cell_type": "markdown",
      "metadata": {
        "id": "SifDli73KQ0e"
      },
      "source": [
        "3. ¿Qué información (atributos) hay disponible para hacer la predicción?"
      ]
    },
    {
      "cell_type": "markdown",
      "metadata": {
        "id": "trHXBpkpQG6j"
      },
      "source": [
        "Los atributos disponibles son:\n",
        " * LOAN:     Monto del prestamo solicitado.\n",
        " * MORTDUE:  Monto adeudado de la hipoteca.\n",
        " * VALUE:    Valor actual de la propiedad.\n",
        " * YOJ:      Antigüedad laboral.\n",
        " * DEROG:    Riesgo crediticio.\n",
        " * DELIQ:    Número de líneas de crédito morosas\n",
        " * CLAGE:    Tiempo de la ultima linea de credito.\n",
        " * CLNO:     Número de líneas de crédito.\n",
        " * DEBTINC:  Relación deuda-ingresos\n"
      ]
    },
    {
      "cell_type": "markdown",
      "metadata": {
        "id": "sIDxLECxKQ0g"
      },
      "source": [
        "4. ¿Qué atributos imagina ud. que son los más determinantes para la predicción?"
      ]
    },
    {
      "cell_type": "markdown",
      "metadata": {
        "id": "Zd7UuBqyTiE8"
      },
      "source": [
        "Consideramos que los atributos determinantes para la predicción son:\n",
        "  * DEBTINC\n",
        "  * CLAGE   \n",
        "  * LOAN    \n",
        "  * VALUE   \n",
        "  * DELINQ  \n",
        "  * NINQ   "
      ]
    },
    {
      "cell_type": "code",
      "metadata": {
        "id": "tmfAOw8QKQ0j"
      },
      "source": [
        "#Separo el conjunto de datos en entrenamiento y test"
      ],
      "execution_count": null,
      "outputs": []
    },
    {
      "cell_type": "code",
      "metadata": {
        "id": "r55UCmyWKQ0l"
      },
      "source": [
        "X_scaler = StandardScaler()\n",
        "X = X_scaler.fit_transform(X)\n",
        "# división entre entrenamiento y evaluación\n",
        "X_train, X_test, y_train, y_test = train_test_split(X, y, test_size=0.2, random_state=0)"
      ],
      "execution_count": null,
      "outputs": []
    },
    {
      "cell_type": "markdown",
      "metadata": {
        "id": "ZSgObV_bKQ0n"
      },
      "source": [
        "## Ejercicio 2: Predicción con Modelos Lineales\n",
        "\n",
        "En este ejercicio se entrenarán modelos lineales de clasificación para predecir la variable objetivo.\n",
        "\n",
        "Para ello, deberán utilizar la clase SGDClassifier de scikit-learn.\n",
        "\n",
        "Documentación:\n",
        "- https://scikit-learn.org/stable/modules/sgd.html\n",
        "- https://scikit-learn.org/stable/modules/generated/sklearn.linear_model.SGDClassifier.html\n"
      ]
    },
    {
      "cell_type": "markdown",
      "metadata": {
        "id": "UXZ08UNVKQ0o"
      },
      "source": [
        "### Ejercicio 2.1: SGDClassifier con hiperparámetros por defecto\n",
        "\n",
        "Entrenar y evaluar el clasificador SGDClassifier usando los valores por omisión de scikit-learn para todos los parámetros. Únicamente **fijar la semilla aleatoria** para hacer repetible el experimento.\n",
        "\n",
        "Evaluar sobre el conjunto de **entrenamiento** y sobre el conjunto de **evaluación**, reportando:\n",
        "- Accuracy\n",
        "- Precision\n",
        "- Recall\n",
        "- F1\n",
        "- matriz de confusión"
      ]
    },
    {
      "cell_type": "code",
      "metadata": {
        "id": "RF2_VJ5IKQ0o"
      },
      "source": [
        "from sklearn.linear_model import SGDClassifier\n",
        "from sklearn.model_selection import GridSearchCV\n",
        "from sklearn.metrics import accuracy_score\n",
        "from sklearn.metrics import precision_score\n",
        "from sklearn.metrics import recall_score\n",
        "from sklearn.metrics import f1_score\n",
        "from sklearn.metrics import confusion_matrix\n",
        "from sklearn.metrics import classification_report"
      ],
      "execution_count": null,
      "outputs": []
    },
    {
      "cell_type": "code",
      "metadata": {
        "id": "01I4LXBbKQ0q"
      },
      "source": [
        "sgdc = SGDClassifier(random_state=0) \n",
        "model = sgdc.fit(X_train,y_train)\n",
        "y_train_pred = model.predict(X_train)\n",
        "y_test_pred = model.predict(X_test)"
      ],
      "execution_count": null,
      "outputs": []
    },
    {
      "cell_type": "code",
      "metadata": {
        "id": "zSK-Yk3FKQ0s",
        "colab": {
          "base_uri": "https://localhost:8080/",
          "height": 173
        },
        "outputId": "74f1056c-1ff3-42f8-9a29-aea138948e99"
      },
      "source": [
        "target_names = ['loan repaid','client_default']\n",
        "print(classification_report(model.predict(X_test),\n",
        "                      y_test,\n",
        "                      target_names=target_names))"
      ],
      "execution_count": null,
      "outputs": [
        {
          "output_type": "stream",
          "text": [
            "                precision    recall  f1-score   support\n",
            "\n",
            "   loan repaid       0.95      0.89      0.92       331\n",
            "client_default       0.40      0.57      0.47        40\n",
            "\n",
            "      accuracy                           0.86       371\n",
            "     macro avg       0.67      0.73      0.69       371\n",
            "  weighted avg       0.89      0.86      0.87       371\n",
            "\n"
          ],
          "name": "stdout"
        }
      ]
    },
    {
      "cell_type": "code",
      "metadata": {
        "id": "MZ17CcCJKQ0y"
      },
      "source": [
        "import numpy as np\n",
        "import itertools\n",
        "import matplotlib.pylab as plt\n",
        "\n",
        "def plot_confusion_matrix(cm, classes,\n",
        "                          normalize=False,\n",
        "                          title='Confusion matrix',\n",
        "                          cmap=plt.cm.Blues):\n",
        "    \"\"\"\n",
        "    This function prints and plots the confusion matrix.\n",
        "    Normalization can be applied by setting `normalize=True`.\n",
        "    \"\"\"\n",
        "    if normalize:\n",
        "        cm = cm.astype('float') / cm.sum(axis=1)[:, np.newaxis]\n",
        "        print(\"Normalized confusion matrix\")\n",
        "    else:\n",
        "        print('Confusion matrix, without normalization')\n",
        "\n",
        "    print(cm)\n",
        "\n",
        "    plt.imshow(cm, interpolation='nearest', cmap=cmap)\n",
        "    plt.title(title)\n",
        "    plt.colorbar()\n",
        "    tick_marks = np.arange(len(classes))\n",
        "    plt.xticks(tick_marks, classes, rotation=45)\n",
        "    plt.yticks(tick_marks, classes)\n",
        "\n",
        "    fmt = '.2f' if normalize else 'd'\n",
        "    thresh = cm.max() / 2.\n",
        "    for i, j in itertools.product(range(cm.shape[0]), range(cm.shape[1])):\n",
        "        plt.text(j, i, format(cm[i, j], fmt),\n",
        "                 horizontalalignment=\"center\",\n",
        "                 color=\"white\" if cm[i, j] > thresh else \"black\")\n",
        "\n",
        "    plt.tight_layout()\n",
        "    plt.ylabel('True label')\n",
        "    plt.xlabel('Predicted label')\n",
        "    plt.show()"
      ],
      "execution_count": null,
      "outputs": []
    },
    {
      "cell_type": "code",
      "metadata": {
        "id": "7jq3GmeaKQ00"
      },
      "source": [
        "cm = confusion_matrix(y_test,y_test_pred)"
      ],
      "execution_count": null,
      "outputs": []
    },
    {
      "cell_type": "code",
      "metadata": {
        "id": "uiZWej3eKQ02",
        "colab": {
          "base_uri": "https://localhost:8080/",
          "height": 363
        },
        "outputId": "b46161ed-3aad-45e8-8540-cf4bee4cb7c4"
      },
      "source": [
        "plot_confusion_matrix(cm=cm, \n",
        "                      classes=['loan repaid','client_default'],\n",
        "                      normalize = True)"
      ],
      "execution_count": null,
      "outputs": [
        {
          "output_type": "stream",
          "text": [
            "Normalized confusion matrix\n",
            "[[0.9456869  0.0543131 ]\n",
            " [0.60344828 0.39655172]]\n"
          ],
          "name": "stdout"
        },
        {
          "output_type": "display_data",
          "data": {
            "image/png": "[encoded data removed]",
            "text/plain": [
              "<Figure size 432x288 with 2 Axes>"
            ]
          },
          "metadata": {
            "tags": [],
            "needs_background": "light"
          }
        }
      ]
    },
    {
      "cell_type": "code",
      "metadata": {
        "id": "QEcbWKo1KQ04",
        "colab": {
          "base_uri": "https://localhost:8080/",
          "height": 86
        },
        "outputId": "3ba0e4e8-b9ed-4f58-d68e-14172c176572"
      },
      "source": [
        "print('Precision  ',precision_score(y_test, y_test_pred))\n",
        "print('F1         ',f1_score(y_test, y_test_pred))\n",
        "print('Recall     ',recall_score(y_test, y_test_pred))\n",
        "print('Accuracy   ',accuracy_score(y_test, y_test_pred))"
      ],
      "execution_count": null,
      "outputs": [
        {
          "output_type": "stream",
          "text": [
            "Precision   0.575\n",
            "F1          0.46938775510204084\n",
            "Recall      0.39655172413793105\n",
            "Accuracy    0.8598382749326146\n"
          ],
          "name": "stdout"
        }
      ]
    },
    {
      "cell_type": "markdown",
      "metadata": {
        "id": "rT85iJnRKQ06"
      },
      "source": [
        "### Ejercicio 2.2: Ajuste de Hiperparámetros\n",
        "\n",
        "Seleccionar valores para los hiperparámetros principales del SGDClassifier. Como mínimo, probar diferentes funciones de loss, tasas de entrenamiento y tasas de regularización.\n",
        "\n",
        "Para ello, usar grid-search y 5-fold cross-validation sobre el conjunto de entrenamiento para explorar muchas combinaciones posibles de valores.\n",
        "\n",
        "Reportar accuracy promedio y varianza para todas las configuraciones.\n",
        "\n",
        "Para la mejor configuración encontrada, evaluar sobre el conjunto de **entrenamiento** y sobre el conjunto de **evaluación**, reportando:\n",
        "- Accuracy\n",
        "- Precision\n",
        "- Recall\n",
        "- F1\n",
        "- matriz de confusión\n",
        "\n",
        "Documentación:\n",
        "- https://scikit-learn.org/stable/modules/grid_search.html\n",
        "- https://scikit-learn.org/stable/modules/generated/sklearn.model_selection.GridSearchCV.html"
      ]
    },
    {
      "cell_type": "code",
      "metadata": {
        "id": "jWHsiS-lKQ06",
        "colab": {
          "base_uri": "https://localhost:8080/",
          "height": 558
        },
        "outputId": "6f814c85-a37a-4efb-c7b8-30370dd11452"
      },
      "source": [
        "param_grid = [{'loss': ['hinge', \n",
        "                        'log',\n",
        "                        'modified_huber',\n",
        "                        'squared_hinge',\n",
        "                        'perceptron'],\n",
        "              'penalty': ['l2', 'l1', 'elasticnet'],\n",
        "              'alpha':[0.0001,0.001,0.01,0.1]}]\n",
        "\n",
        "grid_search_sgdc = GridSearchCV(sgdc, param_grid=param_grid,cv=5,return_train_score=True)\n",
        "grid_search_sgdc.fit(X_train, y_train)"
      ],
      "execution_count": null,
      "outputs": [
        {
          "output_type": "stream",
          "text": [
            "/usr/local/lib/python3.6/dist-packages/sklearn/linear_model/_stochastic_gradient.py:557: ConvergenceWarning: Maximum number of iteration reached before convergence. Consider increasing max_iter to improve the fit.\n",
            "  ConvergenceWarning)\n",
            "/usr/local/lib/python3.6/dist-packages/sklearn/linear_model/_stochastic_gradient.py:557: ConvergenceWarning: Maximum number of iteration reached before convergence. Consider increasing max_iter to improve the fit.\n",
            "  ConvergenceWarning)\n",
            "/usr/local/lib/python3.6/dist-packages/sklearn/linear_model/_stochastic_gradient.py:557: ConvergenceWarning: Maximum number of iteration reached before convergence. Consider increasing max_iter to improve the fit.\n",
            "  ConvergenceWarning)\n",
            "/usr/local/lib/python3.6/dist-packages/sklearn/linear_model/_stochastic_gradient.py:557: ConvergenceWarning: Maximum number of iteration reached before convergence. Consider increasing max_iter to improve the fit.\n",
            "  ConvergenceWarning)\n",
            "/usr/local/lib/python3.6/dist-packages/sklearn/linear_model/_stochastic_gradient.py:557: ConvergenceWarning: Maximum number of iteration reached before convergence. Consider increasing max_iter to improve the fit.\n",
            "  ConvergenceWarning)\n",
            "/usr/local/lib/python3.6/dist-packages/sklearn/linear_model/_stochastic_gradient.py:557: ConvergenceWarning: Maximum number of iteration reached before convergence. Consider increasing max_iter to improve the fit.\n",
            "  ConvergenceWarning)\n"
          ],
          "name": "stderr"
        },
        {
          "output_type": "execute_result",
          "data": {
            "text/plain": [
              "GridSearchCV(cv=5, error_score=nan,\n",
              "             estimator=SGDClassifier(alpha=0.0001, average=False,\n",
              "                                     class_weight=None, early_stopping=False,\n",
              "                                     epsilon=0.1, eta0=0.0, fit_intercept=True,\n",
              "                                     l1_ratio=0.15, learning_rate='optimal',\n",
              "                                     loss='hinge', max_iter=1000,\n",
              "                                     n_iter_no_change=5, n_jobs=None,\n",
              "                                     penalty='l2', power_t=0.5, random_state=0,\n",
              "                                     shuffle=True, tol=0.001,\n",
              "                                     validation_fraction=0.1, verbose=0,\n",
              "                                     warm_start=False),\n",
              "             iid='deprecated', n_jobs=None,\n",
              "             param_grid=[{'alpha': [0.0001, 0.001, 0.01, 0.1],\n",
              "                          'loss': ['hinge', 'log', 'modified_huber',\n",
              "                                   'squared_hinge', 'perceptron'],\n",
              "                          'penalty': ['l2', 'l1', 'elasticnet']}],\n",
              "             pre_dispatch='2*n_jobs', refit=True, return_train_score=True,\n",
              "             scoring=None, verbose=0)"
            ]
          },
          "metadata": {
            "tags": []
          },
          "execution_count": 12
        }
      ]
    },
    {
      "cell_type": "code",
      "metadata": {
        "id": "-Ss4fwIrKQ08",
        "colab": {
          "base_uri": "https://localhost:8080/",
          "height": 1000
        },
        "outputId": "d4b1c8e7-8b4d-49c7-cc1e-82d22b176fcb"
      },
      "source": [
        "resultados = pd.DataFrame(grid_search_sgdc.cv_results_)\n",
        "resultados[['param_alpha',\n",
        "            'param_loss', \n",
        "            'param_penalty',\n",
        "            'params', \n",
        "            'mean_test_score', \n",
        "            'std_test_score', \n",
        "            'rank_test_score']].sort_values(by= ['rank_test_score'])"
      ],
      "execution_count": null,
      "outputs": [
        {
          "output_type": "execute_result",
          "data": {
            "text/html": [
              "<div>\n",
              "<style scoped>\n",
              "    .dataframe tbody tr th:only-of-type {\n",
              "        vertical-align: middle;\n",
              "    }\n",
              "\n",
              "    .dataframe tbody tr th {\n",
              "        vertical-align: top;\n",
              "    }\n",
              "\n",
              "    .dataframe thead th {\n",
              "        text-align: right;\n",
              "    }\n",
              "</style>\n",
              "<table border=\"1\" class=\"dataframe\">\n",
              "  <thead>\n",
              "    <tr style=\"text-align: right;\">\n",
              "      <th></th>\n",
              "      <th>param_alpha</th>\n",
              "      <th>param_loss</th>\n",
              "      <th>param_penalty</th>\n",
              "      <th>params</th>\n",
              "      <th>mean_test_score</th>\n",
              "      <th>std_test_score</th>\n",
              "      <th>rank_test_score</th>\n",
              "    </tr>\n",
              "  </thead>\n",
              "  <tbody>\n",
              "    <tr>\n",
              "      <th>32</th>\n",
              "      <td>0.01</td>\n",
              "      <td>hinge</td>\n",
              "      <td>elasticnet</td>\n",
              "      <td>{'alpha': 0.01, 'loss': 'hinge', 'penalty': 'e...</td>\n",
              "      <td>0.871208</td>\n",
              "      <td>0.008888</td>\n",
              "      <td>1</td>\n",
              "    </tr>\n",
              "    <tr>\n",
              "      <th>18</th>\n",
              "      <td>0.001</td>\n",
              "      <td>log</td>\n",
              "      <td>l2</td>\n",
              "      <td>{'alpha': 0.001, 'loss': 'log', 'penalty': 'l2'}</td>\n",
              "      <td>0.869199</td>\n",
              "      <td>0.011605</td>\n",
              "      <td>2</td>\n",
              "    </tr>\n",
              "    <tr>\n",
              "      <th>17</th>\n",
              "      <td>0.001</td>\n",
              "      <td>hinge</td>\n",
              "      <td>elasticnet</td>\n",
              "      <td>{'alpha': 0.001, 'loss': 'hinge', 'penalty': '...</td>\n",
              "      <td>0.869192</td>\n",
              "      <td>0.010662</td>\n",
              "      <td>3</td>\n",
              "    </tr>\n",
              "    <tr>\n",
              "      <th>15</th>\n",
              "      <td>0.001</td>\n",
              "      <td>hinge</td>\n",
              "      <td>l2</td>\n",
              "      <td>{'alpha': 0.001, 'loss': 'hinge', 'penalty': '...</td>\n",
              "      <td>0.868521</td>\n",
              "      <td>0.009143</td>\n",
              "      <td>4</td>\n",
              "    </tr>\n",
              "    <tr>\n",
              "      <th>16</th>\n",
              "      <td>0.001</td>\n",
              "      <td>hinge</td>\n",
              "      <td>l1</td>\n",
              "      <td>{'alpha': 0.001, 'loss': 'hinge', 'penalty': '...</td>\n",
              "      <td>0.868516</td>\n",
              "      <td>0.008695</td>\n",
              "      <td>5</td>\n",
              "    </tr>\n",
              "    <tr>\n",
              "      <th>33</th>\n",
              "      <td>0.01</td>\n",
              "      <td>log</td>\n",
              "      <td>l2</td>\n",
              "      <td>{'alpha': 0.01, 'loss': 'log', 'penalty': 'l2'}</td>\n",
              "      <td>0.868512</td>\n",
              "      <td>0.009762</td>\n",
              "      <td>6</td>\n",
              "    </tr>\n",
              "    <tr>\n",
              "      <th>35</th>\n",
              "      <td>0.01</td>\n",
              "      <td>log</td>\n",
              "      <td>elasticnet</td>\n",
              "      <td>{'alpha': 0.01, 'loss': 'log', 'penalty': 'ela...</td>\n",
              "      <td>0.868512</td>\n",
              "      <td>0.009762</td>\n",
              "      <td>6</td>\n",
              "    </tr>\n",
              "    <tr>\n",
              "      <th>30</th>\n",
              "      <td>0.01</td>\n",
              "      <td>hinge</td>\n",
              "      <td>l2</td>\n",
              "      <td>{'alpha': 0.01, 'loss': 'hinge', 'penalty': 'l2'}</td>\n",
              "      <td>0.868512</td>\n",
              "      <td>0.005994</td>\n",
              "      <td>6</td>\n",
              "    </tr>\n",
              "    <tr>\n",
              "      <th>39</th>\n",
              "      <td>0.01</td>\n",
              "      <td>squared_hinge</td>\n",
              "      <td>l2</td>\n",
              "      <td>{'alpha': 0.01, 'loss': 'squared_hinge', 'pena...</td>\n",
              "      <td>0.867165</td>\n",
              "      <td>0.008086</td>\n",
              "      <td>9</td>\n",
              "    </tr>\n",
              "    <tr>\n",
              "      <th>19</th>\n",
              "      <td>0.001</td>\n",
              "      <td>log</td>\n",
              "      <td>l1</td>\n",
              "      <td>{'alpha': 0.001, 'loss': 'log', 'penalty': 'l1'}</td>\n",
              "      <td>0.866494</td>\n",
              "      <td>0.013542</td>\n",
              "      <td>10</td>\n",
              "    </tr>\n",
              "    <tr>\n",
              "      <th>41</th>\n",
              "      <td>0.01</td>\n",
              "      <td>squared_hinge</td>\n",
              "      <td>elasticnet</td>\n",
              "      <td>{'alpha': 0.01, 'loss': 'squared_hinge', 'pena...</td>\n",
              "      <td>0.866489</td>\n",
              "      <td>0.007215</td>\n",
              "      <td>11</td>\n",
              "    </tr>\n",
              "    <tr>\n",
              "      <th>34</th>\n",
              "      <td>0.01</td>\n",
              "      <td>log</td>\n",
              "      <td>l1</td>\n",
              "      <td>{'alpha': 0.01, 'loss': 'log', 'penalty': 'l1'}</td>\n",
              "      <td>0.866489</td>\n",
              "      <td>0.005824</td>\n",
              "      <td>11</td>\n",
              "    </tr>\n",
              "    <tr>\n",
              "      <th>36</th>\n",
              "      <td>0.01</td>\n",
              "      <td>modified_huber</td>\n",
              "      <td>l2</td>\n",
              "      <td>{'alpha': 0.01, 'loss': 'modified_huber', 'pen...</td>\n",
              "      <td>0.866489</td>\n",
              "      <td>0.006568</td>\n",
              "      <td>11</td>\n",
              "    </tr>\n",
              "    <tr>\n",
              "      <th>38</th>\n",
              "      <td>0.01</td>\n",
              "      <td>modified_huber</td>\n",
              "      <td>elasticnet</td>\n",
              "      <td>{'alpha': 0.01, 'loss': 'modified_huber', 'pen...</td>\n",
              "      <td>0.866487</td>\n",
              "      <td>0.013943</td>\n",
              "      <td>14</td>\n",
              "    </tr>\n",
              "    <tr>\n",
              "      <th>20</th>\n",
              "      <td>0.001</td>\n",
              "      <td>log</td>\n",
              "      <td>elasticnet</td>\n",
              "      <td>{'alpha': 0.001, 'loss': 'log', 'penalty': 'el...</td>\n",
              "      <td>0.863798</td>\n",
              "      <td>0.014967</td>\n",
              "      <td>15</td>\n",
              "    </tr>\n",
              "    <tr>\n",
              "      <th>21</th>\n",
              "      <td>0.001</td>\n",
              "      <td>modified_huber</td>\n",
              "      <td>l2</td>\n",
              "      <td>{'alpha': 0.001, 'loss': 'modified_huber', 'pe...</td>\n",
              "      <td>0.863793</td>\n",
              "      <td>0.016322</td>\n",
              "      <td>16</td>\n",
              "    </tr>\n",
              "    <tr>\n",
              "      <th>51</th>\n",
              "      <td>0.1</td>\n",
              "      <td>modified_huber</td>\n",
              "      <td>l2</td>\n",
              "      <td>{'alpha': 0.1, 'loss': 'modified_huber', 'pena...</td>\n",
              "      <td>0.863115</td>\n",
              "      <td>0.008136</td>\n",
              "      <td>17</td>\n",
              "    </tr>\n",
              "    <tr>\n",
              "      <th>22</th>\n",
              "      <td>0.001</td>\n",
              "      <td>modified_huber</td>\n",
              "      <td>l1</td>\n",
              "      <td>{'alpha': 0.001, 'loss': 'modified_huber', 'pe...</td>\n",
              "      <td>0.862456</td>\n",
              "      <td>0.017375</td>\n",
              "      <td>18</td>\n",
              "    </tr>\n",
              "    <tr>\n",
              "      <th>53</th>\n",
              "      <td>0.1</td>\n",
              "      <td>modified_huber</td>\n",
              "      <td>elasticnet</td>\n",
              "      <td>{'alpha': 0.1, 'loss': 'modified_huber', 'pena...</td>\n",
              "      <td>0.862440</td>\n",
              "      <td>0.005822</td>\n",
              "      <td>19</td>\n",
              "    </tr>\n",
              "    <tr>\n",
              "      <th>31</th>\n",
              "      <td>0.01</td>\n",
              "      <td>hinge</td>\n",
              "      <td>l1</td>\n",
              "      <td>{'alpha': 0.01, 'loss': 'hinge', 'penalty': 'l1'}</td>\n",
              "      <td>0.861755</td>\n",
              "      <td>0.011218</td>\n",
              "      <td>20</td>\n",
              "    </tr>\n",
              "    <tr>\n",
              "      <th>28</th>\n",
              "      <td>0.001</td>\n",
              "      <td>perceptron</td>\n",
              "      <td>l1</td>\n",
              "      <td>{'alpha': 0.001, 'loss': 'perceptron', 'penalt...</td>\n",
              "      <td>0.860431</td>\n",
              "      <td>0.017319</td>\n",
              "      <td>21</td>\n",
              "    </tr>\n",
              "    <tr>\n",
              "      <th>37</th>\n",
              "      <td>0.01</td>\n",
              "      <td>modified_huber</td>\n",
              "      <td>l1</td>\n",
              "      <td>{'alpha': 0.01, 'loss': 'modified_huber', 'pen...</td>\n",
              "      <td>0.860420</td>\n",
              "      <td>0.011202</td>\n",
              "      <td>22</td>\n",
              "    </tr>\n",
              "    <tr>\n",
              "      <th>24</th>\n",
              "      <td>0.001</td>\n",
              "      <td>squared_hinge</td>\n",
              "      <td>l2</td>\n",
              "      <td>{'alpha': 0.001, 'loss': 'squared_hinge', 'pen...</td>\n",
              "      <td>0.859755</td>\n",
              "      <td>0.022995</td>\n",
              "      <td>23</td>\n",
              "    </tr>\n",
              "    <tr>\n",
              "      <th>23</th>\n",
              "      <td>0.001</td>\n",
              "      <td>modified_huber</td>\n",
              "      <td>elasticnet</td>\n",
              "      <td>{'alpha': 0.001, 'loss': 'modified_huber', 'pe...</td>\n",
              "      <td>0.858415</td>\n",
              "      <td>0.018549</td>\n",
              "      <td>24</td>\n",
              "    </tr>\n",
              "    <tr>\n",
              "      <th>54</th>\n",
              "      <td>0.1</td>\n",
              "      <td>squared_hinge</td>\n",
              "      <td>l2</td>\n",
              "      <td>{'alpha': 0.1, 'loss': 'squared_hinge', 'penal...</td>\n",
              "      <td>0.858397</td>\n",
              "      <td>0.005991</td>\n",
              "      <td>25</td>\n",
              "    </tr>\n",
              "    <tr>\n",
              "      <th>25</th>\n",
              "      <td>0.001</td>\n",
              "      <td>squared_hinge</td>\n",
              "      <td>l1</td>\n",
              "      <td>{'alpha': 0.001, 'loss': 'squared_hinge', 'pen...</td>\n",
              "      <td>0.855044</td>\n",
              "      <td>0.016492</td>\n",
              "      <td>26</td>\n",
              "    </tr>\n",
              "    <tr>\n",
              "      <th>52</th>\n",
              "      <td>0.1</td>\n",
              "      <td>modified_huber</td>\n",
              "      <td>l1</td>\n",
              "      <td>{'alpha': 0.1, 'loss': 'modified_huber', 'pena...</td>\n",
              "      <td>0.855023</td>\n",
              "      <td>0.004266</td>\n",
              "      <td>27</td>\n",
              "    </tr>\n",
              "    <tr>\n",
              "      <th>48</th>\n",
              "      <td>0.1</td>\n",
              "      <td>log</td>\n",
              "      <td>l2</td>\n",
              "      <td>{'alpha': 0.1, 'loss': 'log', 'penalty': 'l2'}</td>\n",
              "      <td>0.853676</td>\n",
              "      <td>0.004516</td>\n",
              "      <td>28</td>\n",
              "    </tr>\n",
              "    <tr>\n",
              "      <th>4</th>\n",
              "      <td>0.0001</td>\n",
              "      <td>log</td>\n",
              "      <td>l1</td>\n",
              "      <td>{'alpha': 0.0001, 'loss': 'log', 'penalty': 'l1'}</td>\n",
              "      <td>0.853010</td>\n",
              "      <td>0.014136</td>\n",
              "      <td>29</td>\n",
              "    </tr>\n",
              "    <tr>\n",
              "      <th>26</th>\n",
              "      <td>0.001</td>\n",
              "      <td>squared_hinge</td>\n",
              "      <td>elasticnet</td>\n",
              "      <td>{'alpha': 0.001, 'loss': 'squared_hinge', 'pen...</td>\n",
              "      <td>0.853005</td>\n",
              "      <td>0.007468</td>\n",
              "      <td>30</td>\n",
              "    </tr>\n",
              "    <tr>\n",
              "      <th>3</th>\n",
              "      <td>0.0001</td>\n",
              "      <td>log</td>\n",
              "      <td>l2</td>\n",
              "      <td>{'alpha': 0.0001, 'loss': 'log', 'penalty': 'l2'}</td>\n",
              "      <td>0.852327</td>\n",
              "      <td>0.003892</td>\n",
              "      <td>31</td>\n",
              "    </tr>\n",
              "    <tr>\n",
              "      <th>45</th>\n",
              "      <td>0.1</td>\n",
              "      <td>hinge</td>\n",
              "      <td>l2</td>\n",
              "      <td>{'alpha': 0.1, 'loss': 'hinge', 'penalty': 'l2'}</td>\n",
              "      <td>0.851654</td>\n",
              "      <td>0.003606</td>\n",
              "      <td>32</td>\n",
              "    </tr>\n",
              "    <tr>\n",
              "      <th>1</th>\n",
              "      <td>0.0001</td>\n",
              "      <td>hinge</td>\n",
              "      <td>l1</td>\n",
              "      <td>{'alpha': 0.0001, 'loss': 'hinge', 'penalty': ...</td>\n",
              "      <td>0.850996</td>\n",
              "      <td>0.014948</td>\n",
              "      <td>33</td>\n",
              "    </tr>\n",
              "    <tr>\n",
              "      <th>56</th>\n",
              "      <td>0.1</td>\n",
              "      <td>squared_hinge</td>\n",
              "      <td>elasticnet</td>\n",
              "      <td>{'alpha': 0.1, 'loss': 'squared_hinge', 'penal...</td>\n",
              "      <td>0.850309</td>\n",
              "      <td>0.011331</td>\n",
              "      <td>34</td>\n",
              "    </tr>\n",
              "    <tr>\n",
              "      <th>50</th>\n",
              "      <td>0.1</td>\n",
              "      <td>log</td>\n",
              "      <td>elasticnet</td>\n",
              "      <td>{'alpha': 0.1, 'loss': 'log', 'penalty': 'elas...</td>\n",
              "      <td>0.850305</td>\n",
              "      <td>0.002603</td>\n",
              "      <td>35</td>\n",
              "    </tr>\n",
              "    <tr>\n",
              "      <th>5</th>\n",
              "      <td>0.0001</td>\n",
              "      <td>log</td>\n",
              "      <td>elasticnet</td>\n",
              "      <td>{'alpha': 0.0001, 'loss': 'log', 'penalty': 'e...</td>\n",
              "      <td>0.848976</td>\n",
              "      <td>0.015666</td>\n",
              "      <td>36</td>\n",
              "    </tr>\n",
              "    <tr>\n",
              "      <th>2</th>\n",
              "      <td>0.0001</td>\n",
              "      <td>hinge</td>\n",
              "      <td>elasticnet</td>\n",
              "      <td>{'alpha': 0.0001, 'loss': 'hinge', 'penalty': ...</td>\n",
              "      <td>0.848949</td>\n",
              "      <td>0.029190</td>\n",
              "      <td>37</td>\n",
              "    </tr>\n",
              "    <tr>\n",
              "      <th>47</th>\n",
              "      <td>0.1</td>\n",
              "      <td>hinge</td>\n",
              "      <td>elasticnet</td>\n",
              "      <td>{'alpha': 0.1, 'loss': 'hinge', 'penalty': 'el...</td>\n",
              "      <td>0.847607</td>\n",
              "      <td>0.001265</td>\n",
              "      <td>38</td>\n",
              "    </tr>\n",
              "    <tr>\n",
              "      <th>42</th>\n",
              "      <td>0.01</td>\n",
              "      <td>perceptron</td>\n",
              "      <td>l2</td>\n",
              "      <td>{'alpha': 0.01, 'loss': 'perceptron', 'penalty...</td>\n",
              "      <td>0.837508</td>\n",
              "      <td>0.020684</td>\n",
              "      <td>39</td>\n",
              "    </tr>\n",
              "    <tr>\n",
              "      <th>40</th>\n",
              "      <td>0.01</td>\n",
              "      <td>squared_hinge</td>\n",
              "      <td>l1</td>\n",
              "      <td>{'alpha': 0.01, 'loss': 'squared_hinge', 'pena...</td>\n",
              "      <td>0.835517</td>\n",
              "      <td>0.047838</td>\n",
              "      <td>40</td>\n",
              "    </tr>\n",
              "    <tr>\n",
              "      <th>0</th>\n",
              "      <td>0.0001</td>\n",
              "      <td>hinge</td>\n",
              "      <td>l2</td>\n",
              "      <td>{'alpha': 0.0001, 'loss': 'hinge', 'penalty': ...</td>\n",
              "      <td>0.830772</td>\n",
              "      <td>0.025628</td>\n",
              "      <td>41</td>\n",
              "    </tr>\n",
              "    <tr>\n",
              "      <th>46</th>\n",
              "      <td>0.1</td>\n",
              "      <td>hinge</td>\n",
              "      <td>l1</td>\n",
              "      <td>{'alpha': 0.1, 'loss': 'hinge', 'penalty': 'l1'}</td>\n",
              "      <td>0.830749</td>\n",
              "      <td>0.001259</td>\n",
              "      <td>42</td>\n",
              "    </tr>\n",
              "    <tr>\n",
              "      <th>49</th>\n",
              "      <td>0.1</td>\n",
              "      <td>log</td>\n",
              "      <td>l1</td>\n",
              "      <td>{'alpha': 0.1, 'loss': 'log', 'penalty': 'l1'}</td>\n",
              "      <td>0.830749</td>\n",
              "      <td>0.001259</td>\n",
              "      <td>42</td>\n",
              "    </tr>\n",
              "    <tr>\n",
              "      <th>7</th>\n",
              "      <td>0.0001</td>\n",
              "      <td>modified_huber</td>\n",
              "      <td>l1</td>\n",
              "      <td>{'alpha': 0.0001, 'loss': 'modified_huber', 'p...</td>\n",
              "      <td>0.828083</td>\n",
              "      <td>0.026335</td>\n",
              "      <td>44</td>\n",
              "    </tr>\n",
              "    <tr>\n",
              "      <th>14</th>\n",
              "      <td>0.0001</td>\n",
              "      <td>perceptron</td>\n",
              "      <td>elasticnet</td>\n",
              "      <td>{'alpha': 0.0001, 'loss': 'perceptron', 'penal...</td>\n",
              "      <td>0.824709</td>\n",
              "      <td>0.061461</td>\n",
              "      <td>45</td>\n",
              "    </tr>\n",
              "    <tr>\n",
              "      <th>59</th>\n",
              "      <td>0.1</td>\n",
              "      <td>perceptron</td>\n",
              "      <td>elasticnet</td>\n",
              "      <td>{'alpha': 0.1, 'loss': 'perceptron', 'penalty'...</td>\n",
              "      <td>0.822629</td>\n",
              "      <td>0.029310</td>\n",
              "      <td>46</td>\n",
              "    </tr>\n",
              "    <tr>\n",
              "      <th>10</th>\n",
              "      <td>0.0001</td>\n",
              "      <td>squared_hinge</td>\n",
              "      <td>l1</td>\n",
              "      <td>{'alpha': 0.0001, 'loss': 'squared_hinge', 'pe...</td>\n",
              "      <td>0.820657</td>\n",
              "      <td>0.016328</td>\n",
              "      <td>47</td>\n",
              "    </tr>\n",
              "    <tr>\n",
              "      <th>44</th>\n",
              "      <td>0.01</td>\n",
              "      <td>perceptron</td>\n",
              "      <td>elasticnet</td>\n",
              "      <td>{'alpha': 0.01, 'loss': 'perceptron', 'penalty...</td>\n",
              "      <td>0.817245</td>\n",
              "      <td>0.029868</td>\n",
              "      <td>48</td>\n",
              "    </tr>\n",
              "    <tr>\n",
              "      <th>8</th>\n",
              "      <td>0.0001</td>\n",
              "      <td>modified_huber</td>\n",
              "      <td>elasticnet</td>\n",
              "      <td>{'alpha': 0.0001, 'loss': 'modified_huber', 'p...</td>\n",
              "      <td>0.815959</td>\n",
              "      <td>0.041186</td>\n",
              "      <td>49</td>\n",
              "    </tr>\n",
              "    <tr>\n",
              "      <th>29</th>\n",
              "      <td>0.001</td>\n",
              "      <td>perceptron</td>\n",
              "      <td>elasticnet</td>\n",
              "      <td>{'alpha': 0.001, 'loss': 'perceptron', 'penalt...</td>\n",
              "      <td>0.799659</td>\n",
              "      <td>0.045653</td>\n",
              "      <td>50</td>\n",
              "    </tr>\n",
              "    <tr>\n",
              "      <th>57</th>\n",
              "      <td>0.1</td>\n",
              "      <td>perceptron</td>\n",
              "      <td>l2</td>\n",
              "      <td>{'alpha': 0.1, 'loss': 'perceptron', 'penalty'...</td>\n",
              "      <td>0.798373</td>\n",
              "      <td>0.014776</td>\n",
              "      <td>51</td>\n",
              "    </tr>\n",
              "    <tr>\n",
              "      <th>43</th>\n",
              "      <td>0.01</td>\n",
              "      <td>perceptron</td>\n",
              "      <td>l1</td>\n",
              "      <td>{'alpha': 0.01, 'loss': 'perceptron', 'penalty...</td>\n",
              "      <td>0.796967</td>\n",
              "      <td>0.064698</td>\n",
              "      <td>52</td>\n",
              "    </tr>\n",
              "    <tr>\n",
              "      <th>6</th>\n",
              "      <td>0.0001</td>\n",
              "      <td>modified_huber</td>\n",
              "      <td>l2</td>\n",
              "      <td>{'alpha': 0.0001, 'loss': 'modified_huber', 'p...</td>\n",
              "      <td>0.795659</td>\n",
              "      <td>0.071651</td>\n",
              "      <td>53</td>\n",
              "    </tr>\n",
              "    <tr>\n",
              "      <th>27</th>\n",
              "      <td>0.001</td>\n",
              "      <td>perceptron</td>\n",
              "      <td>l2</td>\n",
              "      <td>{'alpha': 0.001, 'loss': 'perceptron', 'penalt...</td>\n",
              "      <td>0.794383</td>\n",
              "      <td>0.045645</td>\n",
              "      <td>54</td>\n",
              "    </tr>\n",
              "    <tr>\n",
              "      <th>12</th>\n",
              "      <td>0.0001</td>\n",
              "      <td>perceptron</td>\n",
              "      <td>l2</td>\n",
              "      <td>{'alpha': 0.0001, 'loss': 'perceptron', 'penal...</td>\n",
              "      <td>0.786898</td>\n",
              "      <td>0.049368</td>\n",
              "      <td>55</td>\n",
              "    </tr>\n",
              "    <tr>\n",
              "      <th>9</th>\n",
              "      <td>0.0001</td>\n",
              "      <td>squared_hinge</td>\n",
              "      <td>l2</td>\n",
              "      <td>{'alpha': 0.0001, 'loss': 'squared_hinge', 'pe...</td>\n",
              "      <td>0.782872</td>\n",
              "      <td>0.029452</td>\n",
              "      <td>56</td>\n",
              "    </tr>\n",
              "    <tr>\n",
              "      <th>55</th>\n",
              "      <td>0.1</td>\n",
              "      <td>squared_hinge</td>\n",
              "      <td>l1</td>\n",
              "      <td>{'alpha': 0.1, 'loss': 'squared_hinge', 'penal...</td>\n",
              "      <td>0.780906</td>\n",
              "      <td>0.039558</td>\n",
              "      <td>57</td>\n",
              "    </tr>\n",
              "    <tr>\n",
              "      <th>11</th>\n",
              "      <td>0.0001</td>\n",
              "      <td>squared_hinge</td>\n",
              "      <td>elasticnet</td>\n",
              "      <td>{'alpha': 0.0001, 'loss': 'squared_hinge', 'pe...</td>\n",
              "      <td>0.765955</td>\n",
              "      <td>0.038399</td>\n",
              "      <td>58</td>\n",
              "    </tr>\n",
              "    <tr>\n",
              "      <th>13</th>\n",
              "      <td>0.0001</td>\n",
              "      <td>perceptron</td>\n",
              "      <td>l1</td>\n",
              "      <td>{'alpha': 0.0001, 'loss': 'perceptron', 'penal...</td>\n",
              "      <td>0.730212</td>\n",
              "      <td>0.091004</td>\n",
              "      <td>59</td>\n",
              "    </tr>\n",
              "    <tr>\n",
              "      <th>58</th>\n",
              "      <td>0.1</td>\n",
              "      <td>perceptron</td>\n",
              "      <td>l1</td>\n",
              "      <td>{'alpha': 0.1, 'loss': 'perceptron', 'penalty'...</td>\n",
              "      <td>0.685927</td>\n",
              "      <td>0.259834</td>\n",
              "      <td>60</td>\n",
              "    </tr>\n",
              "  </tbody>\n",
              "</table>\n",
              "</div>"
            ],
            "text/plain": [
              "   param_alpha      param_loss  ... std_test_score rank_test_score\n",
              "32        0.01           hinge  ...       0.008888               1\n",
              "18       0.001             log  ...       0.011605               2\n",
              "17       0.001           hinge  ...       0.010662               3\n",
              "15       0.001           hinge  ...       0.009143               4\n",
              "16       0.001           hinge  ...       0.008695               5\n",
              "33        0.01             log  ...       0.009762               6\n",
              "35        0.01             log  ...       0.009762               6\n",
              "30        0.01           hinge  ...       0.005994               6\n",
              "39        0.01   squared_hinge  ...       0.008086               9\n",
              "19       0.001             log  ...       0.013542              10\n",
              "41        0.01   squared_hinge  ...       0.007215              11\n",
              "34        0.01             log  ...       0.005824              11\n",
              "36        0.01  modified_huber  ...       0.006568              11\n",
              "38        0.01  modified_huber  ...       0.013943              14\n",
              "20       0.001             log  ...       0.014967              15\n",
              "21       0.001  modified_huber  ...       0.016322              16\n",
              "51         0.1  modified_huber  ...       0.008136              17\n",
              "22       0.001  modified_huber  ...       0.017375              18\n",
              "53         0.1  modified_huber  ...       0.005822              19\n",
              "31        0.01           hinge  ...       0.011218              20\n",
              "28       0.001      perceptron  ...       0.017319              21\n",
              "37        0.01  modified_huber  ...       0.011202              22\n",
              "24       0.001   squared_hinge  ...       0.022995              23\n",
              "23       0.001  modified_huber  ...       0.018549              24\n",
              "54         0.1   squared_hinge  ...       0.005991              25\n",
              "25       0.001   squared_hinge  ...       0.016492              26\n",
              "52         0.1  modified_huber  ...       0.004266              27\n",
              "48         0.1             log  ...       0.004516              28\n",
              "4       0.0001             log  ...       0.014136              29\n",
              "26       0.001   squared_hinge  ...       0.007468              30\n",
              "3       0.0001             log  ...       0.003892              31\n",
              "45         0.1           hinge  ...       0.003606              32\n",
              "1       0.0001           hinge  ...       0.014948              33\n",
              "56         0.1   squared_hinge  ...       0.011331              34\n",
              "50         0.1             log  ...       0.002603              35\n",
              "5       0.0001             log  ...       0.015666              36\n",
              "2       0.0001           hinge  ...       0.029190              37\n",
              "47         0.1           hinge  ...       0.001265              38\n",
              "42        0.01      perceptron  ...       0.020684              39\n",
              "40        0.01   squared_hinge  ...       0.047838              40\n",
              "0       0.0001           hinge  ...       0.025628              41\n",
              "46         0.1           hinge  ...       0.001259              42\n",
              "49         0.1             log  ...       0.001259              42\n",
              "7       0.0001  modified_huber  ...       0.026335              44\n",
              "14      0.0001      perceptron  ...       0.061461              45\n",
              "59         0.1      perceptron  ...       0.029310              46\n",
              "10      0.0001   squared_hinge  ...       0.016328              47\n",
              "44        0.01      perceptron  ...       0.029868              48\n",
              "8       0.0001  modified_huber  ...       0.041186              49\n",
              "29       0.001      perceptron  ...       0.045653              50\n",
              "57         0.1      perceptron  ...       0.014776              51\n",
              "43        0.01      perceptron  ...       0.064698              52\n",
              "6       0.0001  modified_huber  ...       0.071651              53\n",
              "27       0.001      perceptron  ...       0.045645              54\n",
              "12      0.0001      perceptron  ...       0.049368              55\n",
              "9       0.0001   squared_hinge  ...       0.029452              56\n",
              "55         0.1   squared_hinge  ...       0.039558              57\n",
              "11      0.0001   squared_hinge  ...       0.038399              58\n",
              "13      0.0001      perceptron  ...       0.091004              59\n",
              "58         0.1      perceptron  ...       0.259834              60\n",
              "\n",
              "[60 rows x 7 columns]"
            ]
          },
          "metadata": {
            "tags": []
          },
          "execution_count": 13
        }
      ]
    },
    {
      "cell_type": "code",
      "metadata": {
        "id": "WzkC2aRlKQ09",
        "colab": {
          "base_uri": "https://localhost:8080/",
          "height": 34
        },
        "outputId": "db228eea-d629-47f7-abdf-052c2d77a5c2"
      },
      "source": [
        "grid_search_sgdc.best_params_"
      ],
      "execution_count": null,
      "outputs": [
        {
          "output_type": "execute_result",
          "data": {
            "text/plain": [
              "{'alpha': 0.01, 'loss': 'hinge', 'penalty': 'elasticnet'}"
            ]
          },
          "metadata": {
            "tags": []
          },
          "execution_count": 14
        }
      ]
    },
    {
      "cell_type": "code",
      "metadata": {
        "id": "ma6M57LwKQ0_"
      },
      "source": [
        "optimised_sgdc = grid_search_sgdc.best_estimator_\n",
        "y_opt_pred = optimised_sgdc.predict(X_test)"
      ],
      "execution_count": null,
      "outputs": []
    },
    {
      "cell_type": "code",
      "metadata": {
        "id": "k9G2Bo1QKQ1A",
        "colab": {
          "base_uri": "https://localhost:8080/",
          "height": 34
        },
        "outputId": "223ce5ff-5753-4dc8-b430-03ea79c32c01"
      },
      "source": [
        "optimised_sgdc.classes_"
      ],
      "execution_count": null,
      "outputs": [
        {
          "output_type": "execute_result",
          "data": {
            "text/plain": [
              "array([0, 1])"
            ]
          },
          "metadata": {
            "tags": []
          },
          "execution_count": 16
        }
      ]
    },
    {
      "cell_type": "code",
      "metadata": {
        "id": "WJM1aKyOKQ1C",
        "colab": {
          "base_uri": "https://localhost:8080/",
          "height": 363
        },
        "outputId": "9cb2f2a7-3517-4a7d-9ac4-d72d80e25769"
      },
      "source": [
        "cm = confusion_matrix(y_test,y_opt_pred)\n",
        "plot_confusion_matrix(cm=cm, \n",
        "                      classes=['loan repaid','client_default'],\n",
        "                      normalize = True)"
      ],
      "execution_count": null,
      "outputs": [
        {
          "output_type": "stream",
          "text": [
            "Normalized confusion matrix\n",
            "[[1.         0.        ]\n",
            " [0.74137931 0.25862069]]\n"
          ],
          "name": "stdout"
        },
        {
          "output_type": "display_data",
          "data": {
            "image/png": "[encoded data removed]",
            "text/plain": [
              "<Figure size 432x288 with 2 Axes>"
            ]
          },
          "metadata": {
            "tags": [],
            "needs_background": "light"
          }
        }
      ]
    },
    {
      "cell_type": "code",
      "metadata": {
        "id": "bgMErSfzKQ1D",
        "colab": {
          "base_uri": "https://localhost:8080/",
          "height": 173
        },
        "outputId": "ad747d97-1f64-448d-f530-49eadfe8b64f"
      },
      "source": [
        "from sklearn.metrics import classification_report\n",
        "target_names = ['loan repaid','client_default']\n",
        "print(classification_report(y_opt_pred,\n",
        "                      y_test,\n",
        "                      target_names=target_names))"
      ],
      "execution_count": null,
      "outputs": [
        {
          "output_type": "stream",
          "text": [
            "                precision    recall  f1-score   support\n",
            "\n",
            "   loan repaid       1.00      0.88      0.94       356\n",
            "client_default       0.26      1.00      0.41        15\n",
            "\n",
            "      accuracy                           0.88       371\n",
            "     macro avg       0.63      0.94      0.67       371\n",
            "  weighted avg       0.97      0.88      0.91       371\n",
            "\n"
          ],
          "name": "stdout"
        }
      ]
    },
    {
      "cell_type": "code",
      "metadata": {
        "id": "hEVQ8Q-GKQ1F",
        "colab": {
          "base_uri": "https://localhost:8080/",
          "height": 86
        },
        "outputId": "07d737af-9451-41fe-950a-b42dceffc094"
      },
      "source": [
        "print('Precision',precision_score(y_test, y_opt_pred))\n",
        "print('F1',f1_score(y_test, y_opt_pred))\n",
        "print('Recall',recall_score(y_test, y_opt_pred))\n",
        "print('Accuracy',accuracy_score(y_test, y_opt_pred))"
      ],
      "execution_count": null,
      "outputs": [
        {
          "output_type": "stream",
          "text": [
            "Precision 1.0\n",
            "F1 0.4109589041095891\n",
            "Recall 0.25862068965517243\n",
            "Accuracy 0.8840970350404312\n"
          ],
          "name": "stdout"
        }
      ]
    },
    {
      "cell_type": "markdown",
      "metadata": {
        "id": "1GpqQBRGKQ1K"
      },
      "source": [
        "## Ejercicio 3: Árboles de Decisión\n",
        "\n",
        "En este ejercicio se entrenarán árboles de decisión para predecir la variable objetivo.\n",
        "\n",
        "Para ello, deberán utilizar la clase DecisionTreeClassifier de scikit-learn.\n",
        "\n",
        "Documentación:\n",
        "- https://scikit-learn.org/stable/modules/tree.html\n",
        "  - https://scikit-learn.org/stable/modules/tree.html#tips-on-practical-use\n",
        "- https://scikit-learn.org/stable/modules/generated/sklearn.tree.DecisionTreeClassifier.html\n",
        "- https://scikit-learn.org/stable/auto_examples/tree/plot_unveil_tree_structure.html"
      ]
    },
    {
      "cell_type": "markdown",
      "metadata": {
        "id": "Z2kriDlhKQ1L"
      },
      "source": [
        "### Ejercicio 3.1: DecisionTreeClassifier con hiperparámetros por defecto\n",
        "\n",
        "Entrenar y evaluar el clasificador DecisionTreeClassifier usando los valores por omisión de scikit-learn para todos los parámetros. Únicamente **fijar la semilla aleatoria** para hacer repetible el experimento.\n",
        "\n",
        "Evaluar sobre el conjunto de **entrenamiento** y sobre el conjunto de **evaluación**, reportando:\n",
        "- Accuracy\n",
        "- Precision\n",
        "- Recall\n",
        "- F1\n",
        "- matriz de confusión\n"
      ]
    },
    {
      "cell_type": "code",
      "metadata": {
        "id": "lQ7jCfm8KQ1L"
      },
      "source": [
        "from sklearn.tree import DecisionTreeClassifier\n",
        "\n",
        "X, y = dataset.iloc[:, 1:], dataset.TARGET\n",
        "X_train, X_test, y_train, y_test = train_test_split(X, y, test_size=0.2, random_state=0)\n",
        "\n",
        "clf = DecisionTreeClassifier(random_state=0)"
      ],
      "execution_count": null,
      "outputs": []
    },
    {
      "cell_type": "code",
      "metadata": {
        "id": "3vWDhlSeKQ1N"
      },
      "source": [
        "model = clf.fit(X_train,y_train)"
      ],
      "execution_count": null,
      "outputs": []
    },
    {
      "cell_type": "code",
      "metadata": {
        "id": "s7vPsnqOKQ1O"
      },
      "source": [
        "y_train_pred = model.predict(X_train)\n",
        "y_test_pred = model.predict(X_test)"
      ],
      "execution_count": null,
      "outputs": []
    },
    {
      "cell_type": "code",
      "metadata": {
        "id": "qWpgbRC8KQ1R",
        "colab": {
          "base_uri": "https://localhost:8080/",
          "height": 173
        },
        "outputId": "12e0e3f6-37b5-473d-94e3-fe555cd4d2d6"
      },
      "source": [
        "target_names = ['loan repaid','client_default']\n",
        "print(classification_report(model.predict(X_test),\n",
        "                      y_test,\n",
        "                      target_names=target_names))"
      ],
      "execution_count": null,
      "outputs": [
        {
          "output_type": "stream",
          "text": [
            "                precision    recall  f1-score   support\n",
            "\n",
            "   loan repaid       0.93      0.93      0.93       311\n",
            "client_default       0.64      0.62      0.63        60\n",
            "\n",
            "      accuracy                           0.88       371\n",
            "     macro avg       0.78      0.77      0.78       371\n",
            "  weighted avg       0.88      0.88      0.88       371\n",
            "\n"
          ],
          "name": "stdout"
        }
      ]
    },
    {
      "cell_type": "code",
      "metadata": {
        "id": "Dbug9vw4KQ1S"
      },
      "source": [
        "cm = confusion_matrix(y_test,y_test_pred)"
      ],
      "execution_count": null,
      "outputs": []
    },
    {
      "cell_type": "code",
      "metadata": {
        "id": "2t3TXpKvKQ1U",
        "colab": {
          "base_uri": "https://localhost:8080/",
          "height": 363
        },
        "outputId": "eee98d3f-0355-4e83-a64a-ef9257e07a31"
      },
      "source": [
        "plot_confusion_matrix(cm=cm, \n",
        "                      classes=['loan repaid','client_default'],\n",
        "                      normalize = True)"
      ],
      "execution_count": null,
      "outputs": [
        {
          "output_type": "stream",
          "text": [
            "Normalized confusion matrix\n",
            "[[0.92651757 0.07348243]\n",
            " [0.36206897 0.63793103]]\n"
          ],
          "name": "stdout"
        },
        {
          "output_type": "display_data",
          "data": {
            "image/png": "[encoded data removed]",
            "text/plain": [
              "<Figure size 432x288 with 2 Axes>"
            ]
          },
          "metadata": {
            "tags": [],
            "needs_background": "light"
          }
        }
      ]
    },
    {
      "cell_type": "code",
      "metadata": {
        "id": "d8nsQ6htKQ1V",
        "colab": {
          "base_uri": "https://localhost:8080/",
          "height": 86
        },
        "outputId": "52df4a5d-a49e-40b0-f06f-53d44538f39f"
      },
      "source": [
        "print('Precision',precision_score(y_test, y_test_pred))\n",
        "print('F1',f1_score(y_test, y_test_pred))\n",
        "print('Recall',recall_score(y_test, y_test_pred))\n",
        "print('Accuracy',accuracy_score(y_test, y_test_pred))"
      ],
      "execution_count": null,
      "outputs": [
        {
          "output_type": "stream",
          "text": [
            "Precision 0.6166666666666667\n",
            "F1 0.6271186440677966\n",
            "Recall 0.6379310344827587\n",
            "Accuracy 0.8814016172506739\n"
          ],
          "name": "stdout"
        }
      ]
    },
    {
      "cell_type": "markdown",
      "metadata": {
        "id": "abNf19NLKQ1W"
      },
      "source": [
        "### Ejercicio 3.2: Ajuste de Hiperparámetros\n",
        "\n",
        "Seleccionar valores para los hiperparámetros principales del DecisionTreeClassifier. Como mínimo, probar diferentes criterios de partición (criterion), profundidad máxima del árbol (max_depth), y cantidad mínima de samples por hoja (min_samples_leaf).\n",
        "\n",
        "Para ello, usar grid-search y 5-fold cross-validation sobre el conjunto de entrenamiento para explorar muchas combinaciones posibles de valores.\n",
        "\n",
        "Reportar accuracy promedio y varianza para todas las configuraciones.\n",
        "\n",
        "Para la mejor configuración encontrada, evaluar sobre el conjunto de **entrenamiento** y sobre el conjunto de **evaluación**, reportando:\n",
        "- Accuracy\n",
        "- Precision\n",
        "- Recall\n",
        "- F1\n",
        "- matriz de confusión\n",
        "\n",
        "\n",
        "Documentación:\n",
        "- https://scikit-learn.org/stable/modules/grid_search.html\n",
        "- https://scikit-learn.org/stable/modules/generated/sklearn.model_selection.GridSearchCV.html"
      ]
    },
    {
      "cell_type": "code",
      "metadata": {
        "id": "yYhSRpA7KQ1X",
        "colab": {
          "base_uri": "https://localhost:8080/",
          "height": 347
        },
        "outputId": "9134bbc8-f5eb-4717-83c0-b811d2b9d3d4"
      },
      "source": [
        "param_grid = {\n",
        "    'criterion' : ['gini', 'entropy'],\n",
        "    'max_depth':  np.arange(5, 12),\n",
        "    'min_samples_leaf' : np.arange(1, 10),\n",
        "    'max_features': [None, 'auto', 'sqrt', 'log2'],\n",
        "}\n",
        "model = DecisionTreeClassifier(random_state=0)\n",
        "\n",
        "grid_search_clf = GridSearchCV(model, param_grid=param_grid,cv=5,return_train_score=True)\n",
        "grid_search_clf.fit(X_train, y_train)"
      ],
      "execution_count": null,
      "outputs": [
        {
          "output_type": "execute_result",
          "data": {
            "text/plain": [
              "GridSearchCV(cv=5, error_score=nan,\n",
              "             estimator=DecisionTreeClassifier(ccp_alpha=0.0, class_weight=None,\n",
              "                                              criterion='gini', max_depth=None,\n",
              "                                              max_features=None,\n",
              "                                              max_leaf_nodes=None,\n",
              "                                              min_impurity_decrease=0.0,\n",
              "                                              min_impurity_split=None,\n",
              "                                              min_samples_leaf=1,\n",
              "                                              min_samples_split=2,\n",
              "                                              min_weight_fraction_leaf=0.0,\n",
              "                                              presort='deprecated',\n",
              "                                              random_state=0, splitter='best'),\n",
              "             iid='deprecated', n_jobs=None,\n",
              "             param_grid={'criterion': ['gini', 'entropy'],\n",
              "                         'max_depth': array([ 5,  6,  7,  8,  9, 10, 11]),\n",
              "                         'max_features': [None, 'auto', 'sqrt', 'log2'],\n",
              "                         'min_samples_leaf': array([1, 2, 3, 4, 5, 6, 7, 8, 9])},\n",
              "             pre_dispatch='2*n_jobs', refit=True, return_train_score=True,\n",
              "             scoring=None, verbose=0)"
            ]
          },
          "metadata": {
            "tags": []
          },
          "execution_count": 27
        }
      ]
    },
    {
      "cell_type": "code",
      "metadata": {
        "id": "KZFMG2RrKQ1Y",
        "colab": {
          "base_uri": "https://localhost:8080/",
          "height": 1000
        },
        "outputId": "caed327f-cc19-4e8a-d40e-9eb6cb80bdab"
      },
      "source": [
        "resultados = pd.DataFrame(grid_search_clf.cv_results_)\n",
        "resultados[['param_criterion',\n",
        "            'param_max_depth', \n",
        "            'param_min_samples_leaf',\n",
        "            'params', \n",
        "            'mean_test_score', \n",
        "            'std_test_score', \n",
        "            'rank_test_score']].sort_values(by= ['rank_test_score'])"
      ],
      "execution_count": null,
      "outputs": [
        {
          "output_type": "execute_result",
          "data": {
            "text/html": [
              "<div>\n",
              "<style scoped>\n",
              "    .dataframe tbody tr th:only-of-type {\n",
              "        vertical-align: middle;\n",
              "    }\n",
              "\n",
              "    .dataframe tbody tr th {\n",
              "        vertical-align: top;\n",
              "    }\n",
              "\n",
              "    .dataframe thead th {\n",
              "        text-align: right;\n",
              "    }\n",
              "</style>\n",
              "<table border=\"1\" class=\"dataframe\">\n",
              "  <thead>\n",
              "    <tr style=\"text-align: right;\">\n",
              "      <th></th>\n",
              "      <th>param_criterion</th>\n",
              "      <th>param_max_depth</th>\n",
              "      <th>param_min_samples_leaf</th>\n",
              "      <th>params</th>\n",
              "      <th>mean_test_score</th>\n",
              "      <th>std_test_score</th>\n",
              "      <th>rank_test_score</th>\n",
              "    </tr>\n",
              "  </thead>\n",
              "  <tbody>\n",
              "    <tr>\n",
              "      <th>189</th>\n",
              "      <td>gini</td>\n",
              "      <td>10</td>\n",
              "      <td>1</td>\n",
              "      <td>{'criterion': 'gini', 'max_depth': 10, 'max_fe...</td>\n",
              "      <td>0.884712</td>\n",
              "      <td>0.012340</td>\n",
              "      <td>1</td>\n",
              "    </tr>\n",
              "    <tr>\n",
              "      <th>198</th>\n",
              "      <td>gini</td>\n",
              "      <td>10</td>\n",
              "      <td>1</td>\n",
              "      <td>{'criterion': 'gini', 'max_depth': 10, 'max_fe...</td>\n",
              "      <td>0.884712</td>\n",
              "      <td>0.012340</td>\n",
              "      <td>1</td>\n",
              "    </tr>\n",
              "    <tr>\n",
              "      <th>207</th>\n",
              "      <td>gini</td>\n",
              "      <td>10</td>\n",
              "      <td>1</td>\n",
              "      <td>{'criterion': 'gini', 'max_depth': 10, 'max_fe...</td>\n",
              "      <td>0.884712</td>\n",
              "      <td>0.012340</td>\n",
              "      <td>1</td>\n",
              "    </tr>\n",
              "    <tr>\n",
              "      <th>215</th>\n",
              "      <td>gini</td>\n",
              "      <td>10</td>\n",
              "      <td>9</td>\n",
              "      <td>{'criterion': 'gini', 'max_depth': 10, 'max_fe...</td>\n",
              "      <td>0.883358</td>\n",
              "      <td>0.013142</td>\n",
              "      <td>4</td>\n",
              "    </tr>\n",
              "    <tr>\n",
              "      <th>197</th>\n",
              "      <td>gini</td>\n",
              "      <td>10</td>\n",
              "      <td>9</td>\n",
              "      <td>{'criterion': 'gini', 'max_depth': 10, 'max_fe...</td>\n",
              "      <td>0.883358</td>\n",
              "      <td>0.013142</td>\n",
              "      <td>4</td>\n",
              "    </tr>\n",
              "    <tr>\n",
              "      <th>...</th>\n",
              "      <td>...</td>\n",
              "      <td>...</td>\n",
              "      <td>...</td>\n",
              "      <td>...</td>\n",
              "      <td>...</td>\n",
              "      <td>...</td>\n",
              "      <td>...</td>\n",
              "    </tr>\n",
              "    <tr>\n",
              "      <th>400</th>\n",
              "      <td>entropy</td>\n",
              "      <td>9</td>\n",
              "      <td>5</td>\n",
              "      <td>{'criterion': 'entropy', 'max_depth': 9, 'max_...</td>\n",
              "      <td>0.847627</td>\n",
              "      <td>0.024845</td>\n",
              "      <td>500</td>\n",
              "    </tr>\n",
              "    <tr>\n",
              "      <th>403</th>\n",
              "      <td>entropy</td>\n",
              "      <td>9</td>\n",
              "      <td>8</td>\n",
              "      <td>{'criterion': 'entropy', 'max_depth': 9, 'max_...</td>\n",
              "      <td>0.847604</td>\n",
              "      <td>0.016294</td>\n",
              "      <td>501</td>\n",
              "    </tr>\n",
              "    <tr>\n",
              "      <th>401</th>\n",
              "      <td>entropy</td>\n",
              "      <td>9</td>\n",
              "      <td>6</td>\n",
              "      <td>{'criterion': 'entropy', 'max_depth': 9, 'max_...</td>\n",
              "      <td>0.844924</td>\n",
              "      <td>0.025380</td>\n",
              "      <td>502</td>\n",
              "    </tr>\n",
              "    <tr>\n",
              "      <th>474</th>\n",
              "      <td>entropy</td>\n",
              "      <td>11</td>\n",
              "      <td>7</td>\n",
              "      <td>{'criterion': 'entropy', 'max_depth': 11, 'max...</td>\n",
              "      <td>0.842229</td>\n",
              "      <td>0.023284</td>\n",
              "      <td>503</td>\n",
              "    </tr>\n",
              "    <tr>\n",
              "      <th>402</th>\n",
              "      <td>entropy</td>\n",
              "      <td>9</td>\n",
              "      <td>7</td>\n",
              "      <td>{'criterion': 'entropy', 'max_depth': 9, 'max_...</td>\n",
              "      <td>0.842224</td>\n",
              "      <td>0.020619</td>\n",
              "      <td>504</td>\n",
              "    </tr>\n",
              "  </tbody>\n",
              "</table>\n",
              "<p>504 rows × 7 columns</p>\n",
              "</div>"
            ],
            "text/plain": [
              "    param_criterion param_max_depth  ... std_test_score rank_test_score\n",
              "189            gini              10  ...       0.012340               1\n",
              "198            gini              10  ...       0.012340               1\n",
              "207            gini              10  ...       0.012340               1\n",
              "215            gini              10  ...       0.013142               4\n",
              "197            gini              10  ...       0.013142               4\n",
              "..              ...             ...  ...            ...             ...\n",
              "400         entropy               9  ...       0.024845             500\n",
              "403         entropy               9  ...       0.016294             501\n",
              "401         entropy               9  ...       0.025380             502\n",
              "474         entropy              11  ...       0.023284             503\n",
              "402         entropy               9  ...       0.020619             504\n",
              "\n",
              "[504 rows x 7 columns]"
            ]
          },
          "metadata": {
            "tags": []
          },
          "execution_count": 28
        }
      ]
    },
    {
      "cell_type": "code",
      "metadata": {
        "id": "myIJfUl_KQ1a",
        "colab": {
          "base_uri": "https://localhost:8080/",
          "height": 34
        },
        "outputId": "fd1733a7-5c94-4d81-91b2-4372907ef19b"
      },
      "source": [
        "grid_search_sgdc.best_params_"
      ],
      "execution_count": null,
      "outputs": [
        {
          "output_type": "execute_result",
          "data": {
            "text/plain": [
              "{'alpha': 0.01, 'loss': 'hinge', 'penalty': 'elasticnet'}"
            ]
          },
          "metadata": {
            "tags": []
          },
          "execution_count": 29
        }
      ]
    },
    {
      "cell_type": "code",
      "metadata": {
        "id": "i6sZhgeOKQ1c"
      },
      "source": [
        "optimised_clf = grid_search_clf.best_estimator_\n",
        "y_opt_pred = optimised_clf.predict(X_test)"
      ],
      "execution_count": null,
      "outputs": []
    },
    {
      "cell_type": "code",
      "metadata": {
        "id": "Jthl7A4YKQ1d",
        "colab": {
          "base_uri": "https://localhost:8080/",
          "height": 34
        },
        "outputId": "1f757fb0-3081-437a-d253-2a385fc36fb3"
      },
      "source": [
        "optimised_clf.classes_"
      ],
      "execution_count": null,
      "outputs": [
        {
          "output_type": "execute_result",
          "data": {
            "text/plain": [
              "array([0, 1])"
            ]
          },
          "metadata": {
            "tags": []
          },
          "execution_count": 31
        }
      ]
    },
    {
      "cell_type": "code",
      "metadata": {
        "id": "YWIeSqR7KQ1e",
        "colab": {
          "base_uri": "https://localhost:8080/",
          "height": 363
        },
        "outputId": "4016981a-a457-43e6-c17a-a8210969182f"
      },
      "source": [
        "cm = confusion_matrix(y_test,y_opt_pred)\n",
        "plot_confusion_matrix(cm=cm, \n",
        "                      classes=['loan repaid','client_default'],\n",
        "                      normalize = True)"
      ],
      "execution_count": null,
      "outputs": [
        {
          "output_type": "stream",
          "text": [
            "Normalized confusion matrix\n",
            "[[0.94888179 0.05111821]\n",
            " [0.27586207 0.72413793]]\n"
          ],
          "name": "stdout"
        },
        {
          "output_type": "display_data",
          "data": {
            "image/png": "[encoded data removed]",
            "text/plain": [
              "<Figure size 432x288 with 2 Axes>"
            ]
          },
          "metadata": {
            "tags": [],
            "needs_background": "light"
          }
        }
      ]
    },
    {
      "cell_type": "code",
      "metadata": {
        "id": "p6NIAHZbKQ1g",
        "colab": {
          "base_uri": "https://localhost:8080/",
          "height": 86
        },
        "outputId": "adaf61fe-793f-43dd-ba95-50b9ec6ed0a2"
      },
      "source": [
        "print('Precision',precision_score(y_test, y_opt_pred))\n",
        "print('F1',f1_score(y_test, y_opt_pred))\n",
        "print('Recall',recall_score(y_test, y_opt_pred))\n",
        "print('Accuracy',accuracy_score(y_test, y_opt_pred))"
      ],
      "execution_count": null,
      "outputs": [
        {
          "output_type": "stream",
          "text": [
            "Precision 0.7241379310344828\n",
            "F1 0.7241379310344829\n",
            "Recall 0.7241379310344828\n",
            "Accuracy 0.9137466307277629\n"
          ],
          "name": "stdout"
        }
      ]
    },
    {
      "cell_type": "code",
      "metadata": {
        "id": "ab1aRIIRKQ1j"
      },
      "source": [
        ""
      ],
      "execution_count": null,
      "outputs": []
    }
  ]
}